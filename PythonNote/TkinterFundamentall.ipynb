{
 "cells": [
  {
   "cell_type": "code",
   "execution_count": 2,
   "metadata": {},
   "outputs": [],
   "source": [
    "import tkinter"
   ]
  },
  {
   "cell_type": "code",
   "execution_count": 4,
   "metadata": {},
   "outputs": [],
   "source": [
    "root = tkinter.Tk()\n",
    "root.title('Quit button')\n",
    "\n",
    "btn = tkinter.Button(root, text=\"Quit\", width=8,\n",
    "    command=root.destroy) # 这里使用root.quit() 会卡死\n",
    "btn.pack(pady=10) # pack是布局管理，\n",
    "\n",
    "root.geometry(\"300x250+300+300\") # 窗口宽高，窗口位置\n",
    "root.mainloop()"
   ]
  },
  {
   "cell_type": "code",
   "execution_count": 2,
   "metadata": {},
   "outputs": [],
   "source": [
    "import tkinter\n",
    "\n",
    "root = tkinter.Tk()\n",
    "root.title('Centered window')\n",
    "\n",
    "win_width = 300\n",
    "win_height = 250 \n",
    "\n",
    "screen_width = root.winfo_screenwidth()\n",
    "screen_height = root.winfo_screenheight()\n",
    "\n",
    "start_x = int((screen_width/2) - (win_width/2))\n",
    "start_y = int((screen_height/2) - (win_height/2))\n",
    "\n",
    "root.geometry('{}x{}+{}+{}'.format(win_width, win_height, \n",
    "    start_x, start_y))\n",
    "root.mainloop()"
   ]
  },
  {
   "cell_type": "code",
   "execution_count": 8,
   "metadata": {},
   "outputs": [],
   "source": [
    "from tkinter import *\n",
    " \n",
    "top = Tk()\n",
    "L1 = Label(top, text=\"网站名\")\n",
    "L1.pack( side = LEFT)\n",
    "E1 = Entry(top, bd =5)\n",
    "E1.pack(side = RIGHT)\n",
    " \n",
    "top.mainloop()"
   ]
  },
  {
   "cell_type": "code",
   "execution_count": 14,
   "metadata": {},
   "outputs": [],
   "source": [
    "from tkinter import *\n",
    "root = Tk()\n",
    " \n",
    "#按扭调用的函数，\n",
    "def reg():\n",
    "    User = e_user.get()\n",
    "    Pwd = e_pwd.get()\n",
    "    len_user = len(User)\n",
    "    len_pwd = len(Pwd)\n",
    "    if User=='111' and Pwd == '222':\n",
    "        l_msg['text']='登陆成功'\n",
    "    else:\n",
    "        l_msg['text']='用户名或密码错误'\n",
    "        e_user.delete(0,len_user)\n",
    "        e_pwd.delete(0,len_pwd)\n",
    " \n",
    "#第一行，用户名标签及输入框\n",
    "l_user =Label(root,text='用户名：')\n",
    "l_user.grid(row=0,sticky=W)\n",
    "e_user =Entry(root)\n",
    "e_user.grid(row=0,column=1,sticky=E)\n",
    " \n",
    "#第二行，密码标签及输入框\n",
    "l_pwd = Label(root,text='密码：')\n",
    "l_pwd.grid(row=1,sticky=W)\n",
    "e_pwd = Entry(root)\n",
    "e_pwd['show']='*'\n",
    "e_pwd.grid(row=1,column=1,sticky=E)\n",
    " \n",
    "#第三行登陆按扭，command绑定事件\n",
    "b_login = Button(root,text='登陆',command=reg)\n",
    "b_login.grid(row=2,column=1,sticky=E)\n",
    " \n",
    "#登陆是否成功提示\n",
    "l_msg = Label(root,text='')\n",
    "l_msg.grid(row=3)\n",
    " \n",
    "root.mainloop()"
   ]
  },
  {
   "cell_type": "code",
   "execution_count": null,
   "metadata": {},
   "outputs": [],
   "source": []
  }
 ],
 "metadata": {
  "kernelspec": {
   "display_name": "Python 3",
   "language": "python",
   "name": "python3"
  },
  "language_info": {
   "codemirror_mode": {
    "name": "ipython",
    "version": 3
   },
   "file_extension": ".py",
   "mimetype": "text/x-python",
   "name": "python",
   "nbconvert_exporter": "python",
   "pygments_lexer": "ipython3",
   "version": "3.6.5"
  }
 },
 "nbformat": 4,
 "nbformat_minor": 2
}
