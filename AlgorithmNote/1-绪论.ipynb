{
 "cells": [
  {
   "cell_type": "markdown",
   "metadata": {},
   "source": [
    "## 1.计算"
   ]
  },
  {
   "cell_type": "markdown",
   "metadata": {},
   "source": [
    "### 算法的有穷性——hailstone算法"
   ]
  },
  {
   "cell_type": "code",
   "execution_count": null,
   "metadata": {},
   "outputs": [],
   "source": [
    "def hailstone(i):\n",
    "    step = 1\n",
    "    while i>1:\n",
    "        i = i/2 if i%2==0 else i*3+1\n",
    "        step+=1\n",
    "    return step\n",
    "    \n",
    "print(hailstone(27))"
   ]
  },
  {
   "cell_type": "markdown",
   "metadata": {},
   "source": [
    "hailston是有穷的吗？<br/>\n",
    " 不知道。"
   ]
  },
  {
   "cell_type": "markdown",
   "metadata": {},
   "source": [
    "### 好算法"
   ]
  },
  {
   "cell_type": "markdown",
   "metadata": {},
   "source": [
    "最重要的是效率"
   ]
  },
  {
   "cell_type": "markdown",
   "metadata": {},
   "source": [
    "## 2.计算模型"
   ]
  },
  {
   "cell_type": "code",
   "execution_count": null,
   "metadata": {},
   "outputs": [],
   "source": []
  },
  {
   "cell_type": "markdown",
   "metadata": {},
   "source": [
    "## 3.减而治之，分而治之"
   ]
  },
  {
   "cell_type": "markdown",
   "metadata": {},
   "source": [
    "### （1）数组求和"
   ]
  },
  {
   "cell_type": "code",
   "execution_count": 12,
   "metadata": {},
   "outputs": [],
   "source": [
    "def add(li):\n",
    "    res = 0\n",
    "    for i in li:\n",
    "        res+=i\n",
    "    return res\n",
    "\n",
    "def add_decrease(li,n):\n",
    "    return 0 if n<0 else add_decrease(li,n-1)+li[n]\n",
    "\n",
    "def add_devide(li,lo,hi):\n",
    "    if lo==hi:\n",
    "        return li[lo]\n",
    "    mi = (lo+hi)>>1\n",
    "    return add_devide(li,lo,mi)+add_devide(li,mi+1,hi)"
   ]
  },
  {
   "cell_type": "code",
   "execution_count": 13,
   "metadata": {},
   "outputs": [
    {
     "name": "stdout",
     "output_type": "stream",
     "text": [
      "6\n",
      "6\n",
      "6\n"
     ]
    }
   ],
   "source": [
    "li = [1,2,3]\n",
    "print(add(li))\n",
    "print(add_decrease(li,len(li)-1))\n",
    "print(add_devide(li,0,len(li)-1))"
   ]
  },
  {
   "cell_type": "markdown",
   "metadata": {},
   "source": [
    "### （2）MAX2"
   ]
  },
  {
   "cell_type": "code",
   "execution_count": 14,
   "metadata": {},
   "outputs": [],
   "source": [
    "def max2(li,lo,hi):\n",
    "    max1 = lo\n",
    "    max2 = lo\n",
    "    for i in range(lo+1,hi):\n",
    "        if li[i]>li[max1]:\n",
    "            max1 = i\n",
    "    for i in range(lo+1,max1):\n",
    "        if li[i]>li[max2]:\n",
    "            max2 = i\n",
    "    for i in range(max1+1,hi):    \n",
    "        if li[i]>li[max2]:\n",
    "            max2 = i\n",
    "    return max1,max2"
   ]
  },
  {
   "cell_type": "code",
   "execution_count": 16,
   "metadata": {},
   "outputs": [
    {
     "data": {
      "text/plain": [
       "(4, 3)"
      ]
     },
     "execution_count": 16,
     "metadata": {},
     "output_type": "execute_result"
    }
   ],
   "source": [
    "max2([1,2,3,4,5],0,5)"
   ]
  },
  {
   "cell_type": "code",
   "execution_count": null,
   "metadata": {},
   "outputs": [],
   "source": [
    "def max2(li,lo,hi):\n",
    "    max1 = lo\n",
    "    max2 = lo\n",
    "    for i in range(lo+1,hi):\n",
    "        if li[i]>li[max1]:\n",
    "            max1 = i\n",
    "    for i in range(lo+1,max1):\n",
    "        if li[i]>li[max2]:\n",
    "            max2 = i\n",
    "    for i in range(max1+1,hi):\n",
    "        if li[i]>li[max2]:\n",
    "            max2 = i\n",
    "    return max1,max2"
   ]
  }
 ],
 "metadata": {
  "kernelspec": {
   "display_name": "Python 3",
   "language": "python",
   "name": "python3"
  },
  "language_info": {
   "codemirror_mode": {
    "name": "ipython",
    "version": 3
   },
   "file_extension": ".py",
   "mimetype": "text/x-python",
   "name": "python",
   "nbconvert_exporter": "python",
   "pygments_lexer": "ipython3",
   "version": "3.6.5"
  }
 },
 "nbformat": 4,
 "nbformat_minor": 2
}
